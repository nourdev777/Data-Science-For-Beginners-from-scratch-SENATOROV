{
 "cells": [
  {
   "cell_type": "code",
   "execution_count": null,
   "id": "a6785898",
   "metadata": {
    "vscode": {
     "languageId": "plaintext"
    }
   },
   "outputs": [],
   "source": [
    "\"\"\"Данный файл описывает проделанную работу.\"\"\""
   ]
  },
  {
   "cell_type": "markdown",
   "id": "dd7277d0",
   "metadata": {},
   "source": [
    "19/08 (2025)\n",
    "\n",
    "1. Сделал форк репо Data-Science-For-Beginners-from-scratch-SENATOROV\n",
    "2. Склонировал форкнутый репо на свой комп через GitHub Desktop\n",
    "3. Открыл склонированный репо в Cursor через GitHub Desktop\n",
    "4. В терминале в папке данного проекта ввел команды \n",
    "git init \n",
    "pip install pre-commit\n",
    "pre-commit install\n",
    "pre-commit run --all-files\n",
    "5. Ознакомился с документацией по линтерам Pylint, Pydocstyle, Flake8 и Mypy\n",
    "6. Выслал скрин своего терминала во Flood чат\n",
    "7. Ознакомился с процедурой принятий и отправки домашних заданий"
   ]
  },
  {
   "cell_type": "markdown",
   "id": "cedbcf4a",
   "metadata": {},
   "source": [
    "20/08 (2025)\n",
    "\n",
    "1. Столкнулся с ошибкой nbqa-pydocstyle D100. Пересмотрел видео и поискал решение в HELP чате. Устранил ошибку путем вставки описания в отдельную первую ячейку (+Code)\n"
   ]
  }
 ],
 "metadata": {
  "language_info": {
   "name": "python"
  }
 },
 "nbformat": 4,
 "nbformat_minor": 5
}
