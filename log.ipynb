{
 "cells": [
  {
   "cell_type": "code",
   "execution_count": null,
   "id": "a6785898",
   "metadata": {
    "vscode": {
     "languageId": "plaintext"
    }
   },
   "outputs": [],
   "source": [
    "\"\"\"Данный файл описывает проделанную работу.\"\"\""
   ]
  },
  {
   "cell_type": "markdown",
   "id": "dd7277d0",
   "metadata": {},
   "source": [
    "19/08 (2025)\n",
    "\n",
    "1. Сделал форк репо Data-Science-For-Beginners-from-scratch-SENATOROV\n",
    "2. Склонировал форкнутый репо на свой комп через GitHub Desktop\n",
    "3. Открыл склонированный репо в Cursor через GitHub Desktop\n",
    "4. В терминале в папке данного проекта ввел команды \n",
    "git init \n",
    "pip install pre-commit\n",
    "pre-commit install\n",
    "pre-commit run --all-files\n",
    "5. Ознакомился с документацией по линтерам Pylint, Pydocstyle, Flake8 и Mypy\n",
    "6. Выслал скрин своего терминала во Flood чат\n",
    "7. Ознакомился с процедурой принятий и отправки домашних заданий"
   ]
  },
  {
   "cell_type": "markdown",
   "id": "cedbcf4a",
   "metadata": {},
   "source": [
    "20/08 (2025)\n",
    "\n",
    "1. Столкнулся с ошибкой nbqa-pydocstyle D100. Пересмотрел видео и поискал решение в HELP чате. Устранил ошибку путем вставки описания в отдельную первую ячейку (+Code)\n"
   ]
  },
  {
   "cell_type": "markdown",
   "id": "6acf8d7d",
   "metadata": {},
   "source": [
    "1. Пункт 3.3 курса - Установка cpython (Python 3.12.11) из исходников.  На учебном видео был пример установки питона из исходников на Windows, однако я устанавливал на MacOS. \n",
    "1.1. У меня уже установлены Python 3.13.5 и Python 3.12.4, я скачал и распаковал версию Python 3.12.11 в папку usr/bin/python3.12.11. \n",
    "1.2. Деактивировал конда, чтобы не было конфликтов командой conda deactivate.\n",
    "1.3. Проверил установлен ли clang командой xcode-select --install. У меня уже установлен выдало ошибку с соответствующим сообщением.\n",
    "1.4. Сделал update и upgrade brew. \n",
    "1.5. Установил зависимости через Homebrew, которые нужны для стандартных модулей Python (openssl для HTTPS, xz для сжатия, gdbm для баз данных и т.д.) через команду brew install pkg-config openssl@3 xz gdbm tcl-tk mpdecimal zstd."
   ]
  }
 ],
 "metadata": {
  "language_info": {
   "name": "python"
  }
 },
 "nbformat": 4,
 "nbformat_minor": 5
}
